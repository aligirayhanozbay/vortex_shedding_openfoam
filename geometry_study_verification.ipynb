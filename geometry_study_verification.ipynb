{
 "cells": [
  {
   "cell_type": "code",
   "execution_count": 1,
   "id": "informed-distribution",
   "metadata": {},
   "outputs": [],
   "source": [
    "from postpro_utils import *"
   ]
  },
  {
   "cell_type": "code",
   "execution_count": null,
   "id": "australian-passage",
   "metadata": {},
   "outputs": [],
   "source": [
    "coarse_filename = '/fsx/example-case/mesh_study_re100/steadystate_laminar_re100_coarse/postProcessing/forceCoeffs/0/coefficient.dat'\n",
    "medium_filename = '/fsx/example-case/mesh_study_re100/steadystate_laminar_re100_medium/postProcessing/forceCoeffs/0/coefficient.dat'\n",
    "fine_filename = '/fsx/example-case/mesh_study_re100/steadystate_laminar_re100_fine/postProcessing/forceCoeffs/0/coefficient.dat'\n",
    "\n",
    "coarse_data = np.loadtxt(coarse_filename, skiprows=0)\n",
    "medium_data = np.loadtxt(medium_filename, skiprows=0)\n",
    "fine_data = np.loadtxt(fine_filename, skiprows=0)"
   ]
  },
  {
   "cell_type": "code",
   "execution_count": 3,
   "id": "iraqi-harvest",
   "metadata": {},
   "outputs": [
    {
     "name": "stdout",
     "output_type": "stream",
     "text": [
      "Allclean_cases.sh\t  diamond_ar_0p625  diamond_ar_2p5     triangle_ar_0p71\r\n",
      "Allrun_cases.sh\t\t  diamond_ar_0p66   generate_cases.sh  triangle_ar_0p83\r\n",
      "Allrun_parallel_cases.sh  diamond_ar_0p71   post_process.pvsm  triangle_ar_1p0\r\n",
      "base\t\t\t  diamond_ar_0p83   remove_cases.sh    triangle_ar_1p25\r\n",
      "cylinder\t\t  diamond_ar_1p0    square\t       triangle_ar_1p5\r\n",
      "cylinder_half\t\t  diamond_ar_1p25   triangle_ar_0p5    triangle_ar_1p66\r\n",
      "cylinder_half_flipped\t  diamond_ar_1p5    triangle_ar_0p56   triangle_ar_2p0\r\n",
      "diamond_ar_0p5\t\t  diamond_ar_1p66   triangle_ar_0p625  triangle_ar_2p5\r\n",
      "diamond_ar_0p56\t\t  diamond_ar_2p0    triangle_ar_0p66\r\n"
     ]
    }
   ],
   "source": [
    "! ls /fsx/example-case/geometry_study_re100_transient"
   ]
  }
 ],
 "metadata": {
  "kernelspec": {
   "display_name": "Python 3",
   "language": "python",
   "name": "python3"
  },
  "language_info": {
   "codemirror_mode": {
    "name": "ipython",
    "version": 3
   },
   "file_extension": ".py",
   "mimetype": "text/x-python",
   "name": "python",
   "nbconvert_exporter": "python",
   "pygments_lexer": "ipython3",
   "version": "3.7.9"
  }
 },
 "nbformat": 4,
 "nbformat_minor": 5
}
